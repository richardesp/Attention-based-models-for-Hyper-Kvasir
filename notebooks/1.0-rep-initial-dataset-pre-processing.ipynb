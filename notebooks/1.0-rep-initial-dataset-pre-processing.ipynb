{
 "cells": [
  {
   "cell_type": "code",
   "execution_count": 1,
   "metadata": {
    "collapsed": true
   },
   "outputs": [],
   "source": [
    "import os\n",
    "import numpy as np\n",
    "import pandas as pd"
   ]
  },
  {
   "cell_type": "code",
   "execution_count": 42,
   "outputs": [],
   "source": [
    "dataset_path = \"../data/hyper-kvasir-dataset\"\n",
    "final_dataset_path = \"../data/hyper-kvasir-dataset-reorganized\""
   ],
   "metadata": {
    "collapsed": false
   }
  },
  {
   "cell_type": "code",
   "execution_count": 43,
   "outputs": [],
   "source": [
    "if not os.path.exists(final_dataset_path):\n",
    "    os.makedirs(final_dataset_path)"
   ],
   "metadata": {
    "collapsed": false
   }
  },
  {
   "cell_type": "code",
   "execution_count": null,
   "outputs": [],
   "source": [
    "# Move all the directories in dataset_path/labeled-images/lower-gj-tract/anatomical-landmarks to final_dataset_path\n",
    "\n",
    "os.system(\"mv \" + dataset_path + \"/labeled-images/lower-gi-tract/anatomical-landmarks/* \" + final_dataset_path)"
   ],
   "metadata": {
    "collapsed": false,
    "pycharm": {
     "is_executing": true
    }
   }
  },
  {
   "cell_type": "code",
   "execution_count": null,
   "outputs": [],
   "source": [
    "# Move all the directories in dataset_path/labeled-images/lower-gj-tract/pathological-findings to final_dataset_path\n",
    "\n",
    "os.system(\"mv \" + dataset_path + \"/labeled-images/lower-gi-tract/pathological-findings/* \" + final_dataset_path)"
   ],
   "metadata": {
    "collapsed": false,
    "pycharm": {
     "is_executing": true
    }
   }
  },
  {
   "cell_type": "code",
   "execution_count": null,
   "outputs": [],
   "source": [
    "# Move all the directories in dataset_path/labeled-images/lower-gj-tract/quality-of-mucosal-view to final_dataset_path\n",
    "\n",
    "os.system(\"mv \" + dataset_path + \"/labeled-images/lower-gi-tract/quality-of-mucosal-views/* \" + final_dataset_path)"
   ],
   "metadata": {
    "collapsed": false,
    "pycharm": {
     "is_executing": true
    }
   }
  },
  {
   "cell_type": "code",
   "execution_count": null,
   "outputs": [],
   "source": [
    "# Move all the directories in dataset_path/labeled-images/lower-gj-tract/therapeutic-interventions to final_dataset_path\n",
    "\n",
    "os.system(\"mv \" + dataset_path + \"/labeled-images/lower-gi-tract/therapeutic-interventions/* \" + final_dataset_path)"
   ],
   "metadata": {
    "collapsed": false,
    "pycharm": {
     "is_executing": true
    }
   }
  },
  {
   "cell_type": "code",
   "execution_count": null,
   "outputs": [],
   "source": [
    "# Move all the directories in dataset_path/labeled-images/upper-gj-tract/anatomical-landmarks to final_dataset_path\n",
    "\n",
    "os.system(\"mv \" + dataset_path + \"/labeled-images/upper-gi-tract/anatomical-landmarks/* \" + final_dataset_path)"
   ],
   "metadata": {
    "collapsed": false,
    "pycharm": {
     "is_executing": true
    }
   }
  },
  {
   "cell_type": "code",
   "execution_count": null,
   "outputs": [],
   "source": [
    "# Move all the directories in dataset_path/labeled-images/upper-gj-tract/pathological-findings to final_dataset_path\n",
    "\n",
    "os.system(\"mv \" + dataset_path + \"/labeled-images/upper-gi-tract/pathological-findings/* \" + final_dataset_path)"
   ],
   "metadata": {
    "collapsed": false,
    "pycharm": {
     "is_executing": true
    }
   }
  },
  {
   "cell_type": "code",
   "execution_count": 64,
   "outputs": [
    {
     "name": "stdout",
     "output_type": "stream",
     "text": [
      "Success ✅ Number of classes in final_dataset_path is 23\n",
      "The number of images per class is (10662 images in total): \n",
      "polyps: 1028 images (9.64 %)\n",
      "barretts-short-segment: 53 images (0.5 %)\n",
      "impacted-stool: 131 images (1.23 %)\n",
      "dyed-lifted-polyps: 1002 images (9.4 %)\n",
      "ulcerative-colitis-grade-2: 443 images (4.15 %)\n",
      "barretts: 41 images (0.38 %)\n",
      "ulcerative-colitis-grade-3: 133 images (1.25 %)\n",
      "retroflex-stomach: 764 images (7.17 %)\n",
      "bbps-0-1: 646 images (6.06 %)\n",
      "pylorus: 999 images (9.37 %)\n",
      "bbps-2-3: 1148 images (10.77 %)\n",
      "ileum: 9 images (0.08 %)\n",
      "hemorrhoids: 6 images (0.06 %)\n",
      "esophagitis-a: 403 images (3.78 %)\n",
      "cecum: 1009 images (9.46 %)\n",
      "ulcerative-colitis-grade-0-1: 35 images (0.33 %)\n",
      "dyed-resection-margins: 989 images (9.28 %)\n",
      "ulcerative-colitis-grade-2-3: 28 images (0.26 %)\n",
      "z-line: 932 images (8.74 %)\n",
      "retroflex-rectum: 391 images (3.67 %)\n",
      "ulcerative-colitis-grade-1: 201 images (1.89 %)\n",
      "esophagitis-b-d: 260 images (2.44 %)\n",
      "ulcerative-colitis-grade-1-2: 11 images (0.1 %)\n"
     ]
    }
   ],
   "source": [
    "# Count the number of directories in final_dataset_path\n",
    "\n",
    "if len(os.listdir(final_dataset_path)) != 23:\n",
    "    print(\"Error ‼️ Number of directories in final_dataset_path is not 23\")\n",
    "else:\n",
    "    print(\"Success ✅ Number of classes in final_dataset_path is 23\")\n",
    "\n",
    "    total_images = sum([len(os.listdir(final_dataset_path + \"/\" + folder)) for folder in os.listdir(final_dataset_path)])\n",
    "\n",
    "    print(f\"The number of images per class is ({total_images} images in total): \")\n",
    "\n",
    "    for folder in os.listdir(final_dataset_path):\n",
    "        print(f\"{folder}: {len(os.listdir(final_dataset_path + '/' + folder))} images ({round(len(os.listdir(final_dataset_path + '/' + folder)) / total_images * 100, 2)} %)\")"
   ],
   "metadata": {
    "collapsed": false
   }
  },
  {
   "cell_type": "code",
   "execution_count": 70,
   "outputs": [
    {
     "name": "stdout",
     "output_type": "stream",
     "text": [
      "number of categories:  23\n"
     ]
    },
    {
     "data": {
      "text/plain": "                        category number of files\n0                       barretts              41\n1         barretts-short-segment              53\n2                       bbps-0-1             646\n3                       bbps-2-3            1148\n4                          cecum            1009\n5             dyed-lifted-polyps            1002\n6         dyed-resection-margins             989\n7                  esophagitis-a             403\n8                esophagitis-b-d             260\n9                    hemorrhoids               6\n10                         ileum               9\n11                impacted-stool             131\n12                        polyps            1028\n13                       pylorus             999\n14              retroflex-rectum             391\n15             retroflex-stomach             764\n16  ulcerative-colitis-grade-0-1              35\n17    ulcerative-colitis-grade-1             201\n18  ulcerative-colitis-grade-1-2              11\n19    ulcerative-colitis-grade-2             443\n20  ulcerative-colitis-grade-2-3              28\n21    ulcerative-colitis-grade-3             133\n22                        z-line             932",
      "text/html": "<div>\n<style scoped>\n    .dataframe tbody tr th:only-of-type {\n        vertical-align: middle;\n    }\n\n    .dataframe tbody tr th {\n        vertical-align: top;\n    }\n\n    .dataframe thead th {\n        text-align: right;\n    }\n</style>\n<table border=\"1\" class=\"dataframe\">\n  <thead>\n    <tr style=\"text-align: right;\">\n      <th></th>\n      <th>category</th>\n      <th>number of files</th>\n    </tr>\n  </thead>\n  <tbody>\n    <tr>\n      <th>0</th>\n      <td>barretts</td>\n      <td>41</td>\n    </tr>\n    <tr>\n      <th>1</th>\n      <td>barretts-short-segment</td>\n      <td>53</td>\n    </tr>\n    <tr>\n      <th>2</th>\n      <td>bbps-0-1</td>\n      <td>646</td>\n    </tr>\n    <tr>\n      <th>3</th>\n      <td>bbps-2-3</td>\n      <td>1148</td>\n    </tr>\n    <tr>\n      <th>4</th>\n      <td>cecum</td>\n      <td>1009</td>\n    </tr>\n    <tr>\n      <th>5</th>\n      <td>dyed-lifted-polyps</td>\n      <td>1002</td>\n    </tr>\n    <tr>\n      <th>6</th>\n      <td>dyed-resection-margins</td>\n      <td>989</td>\n    </tr>\n    <tr>\n      <th>7</th>\n      <td>esophagitis-a</td>\n      <td>403</td>\n    </tr>\n    <tr>\n      <th>8</th>\n      <td>esophagitis-b-d</td>\n      <td>260</td>\n    </tr>\n    <tr>\n      <th>9</th>\n      <td>hemorrhoids</td>\n      <td>6</td>\n    </tr>\n    <tr>\n      <th>10</th>\n      <td>ileum</td>\n      <td>9</td>\n    </tr>\n    <tr>\n      <th>11</th>\n      <td>impacted-stool</td>\n      <td>131</td>\n    </tr>\n    <tr>\n      <th>12</th>\n      <td>polyps</td>\n      <td>1028</td>\n    </tr>\n    <tr>\n      <th>13</th>\n      <td>pylorus</td>\n      <td>999</td>\n    </tr>\n    <tr>\n      <th>14</th>\n      <td>retroflex-rectum</td>\n      <td>391</td>\n    </tr>\n    <tr>\n      <th>15</th>\n      <td>retroflex-stomach</td>\n      <td>764</td>\n    </tr>\n    <tr>\n      <th>16</th>\n      <td>ulcerative-colitis-grade-0-1</td>\n      <td>35</td>\n    </tr>\n    <tr>\n      <th>17</th>\n      <td>ulcerative-colitis-grade-1</td>\n      <td>201</td>\n    </tr>\n    <tr>\n      <th>18</th>\n      <td>ulcerative-colitis-grade-1-2</td>\n      <td>11</td>\n    </tr>\n    <tr>\n      <th>19</th>\n      <td>ulcerative-colitis-grade-2</td>\n      <td>443</td>\n    </tr>\n    <tr>\n      <th>20</th>\n      <td>ulcerative-colitis-grade-2-3</td>\n      <td>28</td>\n    </tr>\n    <tr>\n      <th>21</th>\n      <td>ulcerative-colitis-grade-3</td>\n      <td>133</td>\n    </tr>\n    <tr>\n      <th>22</th>\n      <td>z-line</td>\n      <td>932</td>\n    </tr>\n  </tbody>\n</table>\n</div>"
     },
     "execution_count": 70,
     "metadata": {},
     "output_type": "execute_result"
    }
   ],
   "source": [
    "def get_data_categories(dataset_dir):\n",
    "    import glob\n",
    "\n",
    "    categories = []\n",
    "    for folder_name in os.listdir(dataset_dir):\n",
    "        if os.path.isdir(os.path.join(dataset_dir, folder_name)):\n",
    "            nbr_files = len(\n",
    "                glob.glob(os.path.join(dataset_dir, folder_name) + \"/*.jpg\")\n",
    "            )\n",
    "            categories.append(np.array([folder_name, nbr_files]))\n",
    "\n",
    "    categories.sort(key=lambda a: a[0])\n",
    "    cat = np.array(categories)\n",
    "\n",
    "    return list(cat[:, 0]), list(cat[:, 1])\n",
    "\n",
    "categories, nbr_files = get_data_categories(final_dataset_path)\n",
    "\n",
    "# Create DataFrame\n",
    "df = pd.DataFrame({\"category\": categories, \"number of files\": nbr_files})\n",
    "print(\"number of categories: \", len(categories))\n",
    "df"
   ],
   "metadata": {
    "collapsed": false
   }
  }
 ],
 "metadata": {
  "kernelspec": {
   "name": "python3",
   "language": "python",
   "display_name": "Python 3 (ipykernel)"
  },
  "language_info": {
   "codemirror_mode": {
    "name": "ipython",
    "version": 2
   },
   "file_extension": ".py",
   "mimetype": "text/x-python",
   "name": "python",
   "nbconvert_exporter": "python",
   "pygments_lexer": "ipython2",
   "version": "2.7.6"
  }
 },
 "nbformat": 4,
 "nbformat_minor": 0
}
